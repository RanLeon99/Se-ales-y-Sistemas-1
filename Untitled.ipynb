{
 "cells": [
  {
   "cell_type": "markdown",
   "id": "16495d79",
   "metadata": {},
   "source": [
    "# Proyecto 1 Completo\n",
    "\n",
    "## Autor \n",
    "Randall Leon Madriz.\n",
    "\n",
    "## Curso\n",
    "Señales y Sistemas 1.\n",
    "\n",
    "## Profesor \n",
    "Marvin Coto Jiménez.\n"
   ]
  },
  {
   "cell_type": "markdown",
   "id": "3aa9805d",
   "metadata": {},
   "source": [
    "# Índice\n",
    "\n",
    "1. [Visualización de onda de archivos .wav](#1.-Visualización-de-onda-de-archivos-.wav)\n",
    "2. [Creación del sonido de la suma de dos archivos .wav](#2.-Creación-del-sonido-de-la-suma-de-dos-archivos-.wav)\n",
    "3. [Transformada de Fourier de un archivo .wav y su espectro](#3.-Transformada-de-Fourier-de-un-archivo-.wav-y-su-espectro)\n",
    "4. [Generación de nuevos sonidos sintetizados](#4.-Generación-de-nuevos-sonidos-sintetizados)"
   ]
  },
  {
   "cell_type": "markdown",
   "id": "3042a4b2",
   "metadata": {},
   "source": [
    "En este Notebook contiene los siguientes audios para utilizarlos en los siguientes codigo\n",
    "\n",
    "- piano-C5.wav\n",
    "- trumpet-G5.wav\n",
    "- violin-C5.wav\n",
    "\n"
   ]
  },
  {
   "cell_type": "markdown",
   "id": "c7cab86c",
   "metadata": {},
   "source": [
    "## 1. Visualización de onda de archivos .wav"
   ]
  },
  {
   "cell_type": "markdown",
   "id": "fc7fc298",
   "metadata": {},
   "source": [
    "A continuación se muestra el código necesario para poder visualizar las formas de onda del archivo .wav que deseamos:"
   ]
  },
  {
   "cell_type": "code",
   "execution_count": 3,
   "id": "dbfccb12",
   "metadata": {},
   "outputs": [
    {
     "data": {
      "image/png": "[encoded data removed]",
      "text/plain": [
       "<Figure size 432x288 with 1 Axes>"
      ]
     },
     "metadata": {
      "needs_background": "light"
     },
     "output_type": "display_data"
    }
   ],
   "source": [
    "import matplotlib.pyplot as plt\n",
    "import numpy as np\n",
    "import wave\n",
    "\n",
    "def visualize(path: str):\n",
    "\n",
    "    raw = wave.open(path)\n",
    "    signal = raw.readframes(-1)\n",
    "    signal = np.frombuffer(signal, dtype =\"int16\")\n",
    "\n",
    "    f_rate = raw.getframerate()\n",
    "\n",
    "    time = np.linspace(\n",
    "        0,\n",
    "        len(signal) / f_rate,\n",
    "        num = len(signal)\n",
    "    )\n",
    "\n",
    "    plt.figure(1) \t\n",
    "    plt.title(\"violin-C5\")\n",
    "    plt.xlabel(\"Time\")\n",
    "    plt.plot(time, signal)\n",
    "    plt.show()\n",
    "\n",
    "if __name__ == \"__main__\":\n",
    "    visualize('violin-C5.wav')"
   ]
  },
  {
   "cell_type": "markdown",
   "id": "753bc023",
   "metadata": {},
   "source": [
    "Explicacion del codigo:\n",
    "\n",
    "El codigo tiene una función llamada visualize que abre el archivo de audio utilizando la biblioteca wave, lee todos los cuadros de audio del archivo y los convierte en un arreglo NumPy de 16 bits de enteros llamado signal. Luego, utiliza la función getframerate( ) de la biblioteca wave para obtener la frecuencia de muestreo del archivo de audio, y utiliza NumPy para crear un arreglo time que representa el tiempo en segundos para cada muestra en el archivo de audio. Luego para poder generar la grafica se hace uso de matplotlib.pyplot."
   ]
  },
  {
   "cell_type": "markdown",
   "id": "7bcd46e5",
   "metadata": {},
   "source": [
    "Con los resultados obtenidos de esta etaba nos ayuda a visualizar la onda generada por el archivo .wav que deseamos, como se muestra con el archivo \"violin-C5.wav\" que nos genera la grafica que se muestra anteriormente.\n",
    "\n",
    "Esta parte del proyecto nos ayuda a clasificar la señal, por ejemplo:\n",
    "\n",
    "- Continuas, discretas y digitales\n",
    "- Periódicas y no periódicas\n",
    "- Causales, no causales y anti-causales\n",
    "- Determinísticas y aleatorias\n",
    "- De energía y de potencia finitas\n",
    "\n",
    "También se utiliza el código para poder realizar operaciones a la señal, como:\n",
    "\n",
    "- Desplazamiento\n",
    "- Escalamiento\n",
    "- Reflexion\n",
    "\n",
    "De esta manera, nos ayudará a entender mejor la teoría, ya que tendremos una representación visual de cada una de ellas.\n"
   ]
  },
  {
   "cell_type": "markdown",
   "id": "badc6d15",
   "metadata": {},
   "source": [
    "A continuación se muestra la gráfica de dos sonidos más generados por el código."
   ]
  },
  {
   "cell_type": "markdown",
   "id": "bef9e98c",
   "metadata": {},
   "source": [
    "![PIANO C5](wave_piano.png)\n"
   ]
  },
  {
   "cell_type": "markdown",
   "id": "ae751a5f",
   "metadata": {},
   "source": [
    "![TRU C5](wave_tru.png)"
   ]
  },
  {
   "cell_type": "markdown",
   "id": "e5a0e54b",
   "metadata": {},
   "source": [
    "## 2. Creación del sonido de la suma de dos archivos .wav"
   ]
  },
  {
   "cell_type": "code",
   "execution_count": 1,
   "id": "f337fc94",
   "metadata": {},
   "outputs": [],
   "source": [
    "import scipy.io.wavfile as wav\n",
    "import numpy as np\n",
    "\n",
    "# Cargar las dos señales WAV\n",
    "fs1, data1 = wav.read('trumpet-G5.wav')\n",
    "fs2, data2 = wav.read('piano-C5.wav')\n",
    "\n",
    "# Asegurarse de que las señales tengan la misma duración\n",
    "min_len = min(len(data1), len(data2))\n",
    "data1 = data1[:min_len]\n",
    "data2 = data2[:min_len]\n",
    "\n",
    "# Normalizar las señales para evitar la saturación de amplitud\n",
    "data1_norm = data1 / np.max(np.abs(data1))\n",
    "data2_norm = data2 / np.max(np.abs(data2))\n",
    "\n",
    "# Realizar el overlay sumando las señales\n",
    "data_overlay = data1_norm + data2_norm\n",
    "\n",
    "\n",
    "# Guardar la señal resultante en un archivo WAV\n",
    "wav.write('suma.wav', fs1, np.asarray(np.clip(data_overlay, -1, 1) * 32767, dtype=np.int16))"
   ]
  },
  {
   "cell_type": "markdown",
   "id": "c6e44262",
   "metadata": {},
   "source": [
    "Explicacion del codigo:\n",
    "\n",
    "Carga dos archivos de audio '.wav', se asegura de que tengan la misma duración y normaliza las señales para evitar la saturación de amplitud. Luego, realiza una suma de las señales y guarda la señal resultante en un archivo de audio llamado \"suma.wav\".\n",
    "\n",
    "El codigo lo que genera es un archivo .wav nuevo llamado salida.wav, que contiene la suma de trumpet-G5.wav y piano-C5.wav.\n",
    "\n",
    "Los resultados de la suma puede ser útil para aplicar efectos de audio, como superposición de sonidos o mezclas de música y con la ayuda del codigo de [1. Visualización de onda de archivos .wav](#visualizacion-de-onda) podemos observar la nueva senal creada por la operacion suma, con solo agregar el archivo generado \"suma.wav\".\n"
   ]
  },
  {
   "cell_type": "markdown",
   "id": "2e0b32d8",
   "metadata": {},
   "source": [
    "## 3. Transformada de Fourier de un archivo .wav y su espectro"
   ]
  },
  {
   "cell_type": "code",
   "execution_count": 3,
   "id": "5778a6be",
   "metadata": {},
   "outputs": [
    {
     "data": {
      "image/png": "[encoded data removed]",
      "text/plain": [
       "<Figure size 432x288 with 1 Axes>"
      ]
     },
     "metadata": {},
     "output_type": "display_data"
    }
   ],
   "source": [
    "import numpy as np\n",
    "from scipy.io import wavfile\n",
    "import matplotlib.pyplot as plt\n",
    "plt.style.use('seaborn-dark')\n",
    "\n",
    "sample_rate, middle_c = wavfile.read('violin-C5.wav') # cargar los datos del archivo de audio\n",
    "\n",
    "#calcular la transformada de Fourier del archivo de audio\n",
    "t = np.arange(middle_c.shape[0])\n",
    "freq = np.fft.fftfreq(t.shape[-1])*sample_rate\n",
    "sp = np.fft.fft(middle_c) \n",
    "\n",
    "\n",
    "## Graficar el espectro\n",
    "plt.plot(freq, abs(sp.real))\n",
    "plt.xlabel('Frequency (Hz)')\n",
    "plt.ylabel('Amplitude')\n",
    "plt.title('Spectrum of violin-C5.wav')\n",
    "plt.xlim((0, 2000))\n",
    "plt.grid()\n",
    "\n",
    "# Mostrar\n",
    "plt.show()"
   ]
  },
  {
   "cell_type": "markdown",
   "id": "01b53674",
   "metadata": {},
   "source": [
    "Explicacion del codigo:\n",
    "\n",
    "Carga un archivo de audio '.wav'. Luego, realiza la transformada de Fourier del archivo de audio, lo que permite visualizar la distribución de las frecuencias presentes en la señal. Finalmente, el código grafica el espectro de frecuencia de la señal de audio."
   ]
  },
  {
   "cell_type": "markdown",
   "id": "c78061e1",
   "metadata": {},
   "source": [
    "La transformada de Fourier permite descomponer una señal de audio en sus componentes de frecuencia.\n",
    "\n",
    "Con este espectro que nos generan los resultados del codigo se puede identificar características específicas de la señal. La gráfica del espectro de frecuencia muestra cómo la energía de la señal se distribuye en diferentes frecuencias, lo que puede ser útil para detectar problemas en la grabación o para analizar la calidad de la señal.\n",
    "\n",
    "Este código es muy útil para nuestro curso Señales y Sistemas, para poner en práctica la teoría de la Transformada de Fourier y el espectro.\n",
    "\n",
    "Es importante destacar que en el espectro obtenido siempre se representan valores positivos, debido a que se grafica la magnitud de la señal. Esta es una característica relevante a considerar al interpretar los resultados obtenidos mediante la aplicación de la transformada de Fourier y el análisis del espectro resultante.\n",
    "\n",
    "A continuación se muestra algunos espectros generados por el codigo:\n"
   ]
  },
  {
   "cell_type": "markdown",
   "id": "4e748e10",
   "metadata": {},
   "source": [
    "![TRU C5](Spectrum_trumpet.png)"
   ]
  },
  {
   "cell_type": "markdown",
   "id": "e5507f69",
   "metadata": {},
   "source": [
    "![5](Spectrum_piano.png)"
   ]
  },
  {
   "cell_type": "markdown",
   "id": "2e8183cd",
   "metadata": {},
   "source": [
    "## 4. Generación de nuevos sonidos sintetizados"
   ]
  },
  {
   "cell_type": "code",
   "execution_count": 13,
   "id": "3a4df124",
   "metadata": {},
   "outputs": [
    {
     "data": {
      "image/png": "[encoded data removed]",
      "text/plain": [
       "<Figure size 432x288 with 1 Axes>"
      ]
     },
     "metadata": {
      "needs_background": "light"
     },
     "output_type": "display_data"
    }
   ],
   "source": [
    "import numpy as np\n",
    "from scipy.io import wavfile\n",
    "import matplotlib.pyplot as plt\n",
    "from scipy.signal import hann\n",
    "\n",
    "# Cargar los datos del archivo de audio\n",
    "sample_rate, signal = wavfile.read('violin-C5.wav')\n",
    "\n",
    "# Aplicar una ventana Hann a la señal\n",
    "window = hann(len(signal))\n",
    "signal = signal * window\n",
    "\n",
    "# Calcular la transformada de Fourier de la señal original\n",
    "t = np.arange(signal.shape[0])\n",
    "freq = np.fft.fftfreq(t.shape[-1]) * sample_rate\n",
    "sp = np.fft.fft(signal)\n",
    "\n",
    "# Filtrar el espectro eliminando las frecuencias por debajo de 500 Hz\n",
    "cutoff_freq = 500\n",
    "sp[freq < cutoff_freq] = 0\n",
    "\n",
    "# Aplicar la inversa de la transformada de Fourier para generar el nuevo sonido sintetizado\n",
    "new_signal = np.fft.ifft(sp).real.astype(np.int16)\n",
    "\n",
    "# Calcular la transformada de Fourier del nuevo archivo de audio\n",
    "t_new = np.arange(new_signal.shape[0])\n",
    "freq_new = np.fft.fftfreq(t_new.shape[-1]) * sample_rate\n",
    "sp_new = np.fft.fft(new_signal)\n",
    "\n",
    "# Filtrar el espectro eliminando las frecuencias por debajo de 500 Hz\n",
    "sp_new[freq_new < cutoff_freq] = 0\n",
    "\n",
    "# Guardar el nuevo archivo de audio\n",
    "wavfile.write('new_violin-C5.wav.wav', sample_rate, new_signal)\n",
    "\n",
    "# Graficar el espectro del nuevo archivo de audio sintetizado\n",
    "plt.figure()\n",
    "plt.plot(freq_new, abs(sp_new.real))\n",
    "plt.xlabel('Frequency (Hz)')\n",
    "plt.ylabel('Amplitude')\n",
    "plt.title('Spectrum of sintetizado violin-C5.wav')\n",
    "plt.xlim((0, 2000))\n",
    "plt.grid()\n",
    "\n",
    "# Mostrar los gráficos\n",
    "plt.show()"
   ]
  },
  {
   "cell_type": "markdown",
   "id": "742c6266",
   "metadata": {},
   "source": [
    "Explicacion del codigo:\n",
    "\n",
    "Carga un archivo de audio llamado 'violin-C5.wav', aplica una ventana Hann a la señal y luego calcula la transformada de Fourier de la señal original. A continuación, se filtran las frecuencias por debajo de 500 Hz y se aplica la inversa de la transformada de Fourier para generar un nuevo sonido sintetizado.\n",
    "\n",
    "La Transformada de Fourier y el espectro para generar nuevas señales sintetizadas a partir de una señal de audio original. En particular, se aplica una ventana Hann a la señal para suavizar los extremos y luego se filtra el espectro para eliminar frecuencias no deseadas. Esta técnica se utiliza en muchas áreas, como la música y la ingeniería de señales."
   ]
  }
 ],
 "metadata": {
  "kernelspec": {
   "display_name": "Python 3 (ipykernel)",
   "language": "python",
   "name": "python3"
  },
  "language_info": {
   "codemirror_mode": {
    "name": "ipython",
    "version": 3
   },
   "file_extension": ".py",
   "mimetype": "text/x-python",
   "name": "python",
   "nbconvert_exporter": "python",
   "pygments_lexer": "ipython3",
   "version": "3.10.6"
  }
 },
 "nbformat": 4,
 "nbformat_minor": 5
}
